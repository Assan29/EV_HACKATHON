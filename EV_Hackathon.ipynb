{
 "cells": [
  {
   "cell_type": "code",
   "execution_count": 2,
   "metadata": {
    "id": "Y_r868mODVi_"
   },
   "outputs": [],
   "source": [
    "import numpy as np\n",
    "import pandas as pd\n",
    "import matplotlib.pyplot as plt\n",
    "import seaborn as sns\n",
    "import plotly.express as px\n",
    "import bar_chart_race as bcr\n",
    "import plotly.graph_objects as go"
   ]
  },
  {
   "cell_type": "code",
   "execution_count": 3,
   "metadata": {
    "id": "XpPCsN8ZESeD"
   },
   "outputs": [],
   "source": [
    "df = pd.read_csv(r\"C:\\Users\\kalag\\Downloads\\dataset.csv\")"
   ]
  },
  {
   "cell_type": "code",
   "execution_count": 4,
   "metadata": {
    "colab": {
     "base_uri": "https://localhost:8080/",
     "height": 1000
    },
    "id": "cOlHAqkvEboV",
    "outputId": "7c2d5b89-428a-4387-b29b-f8d4797eda1e"
   },
   "outputs": [
    {
     "data": {
      "text/html": [
       "<div>\n",
       "<style scoped>\n",
       "    .dataframe tbody tr th:only-of-type {\n",
       "        vertical-align: middle;\n",
       "    }\n",
       "\n",
       "    .dataframe tbody tr th {\n",
       "        vertical-align: top;\n",
       "    }\n",
       "\n",
       "    .dataframe thead th {\n",
       "        text-align: right;\n",
       "    }\n",
       "</style>\n",
       "<table border=\"1\" class=\"dataframe\">\n",
       "  <thead>\n",
       "    <tr style=\"text-align: right;\">\n",
       "      <th></th>\n",
       "      <th>VIN (1-10)</th>\n",
       "      <th>County</th>\n",
       "      <th>City</th>\n",
       "      <th>State</th>\n",
       "      <th>Postal Code</th>\n",
       "      <th>Model Year</th>\n",
       "      <th>Make</th>\n",
       "      <th>Model</th>\n",
       "      <th>Electric Vehicle Type</th>\n",
       "      <th>Clean Alternative Fuel Vehicle (CAFV) Eligibility</th>\n",
       "      <th>Electric Range</th>\n",
       "      <th>Base MSRP</th>\n",
       "      <th>Legislative District</th>\n",
       "      <th>DOL Vehicle ID</th>\n",
       "      <th>Vehicle Location</th>\n",
       "      <th>Electric Utility</th>\n",
       "      <th>2020 Census Tract</th>\n",
       "    </tr>\n",
       "  </thead>\n",
       "  <tbody>\n",
       "    <tr>\n",
       "      <th>0</th>\n",
       "      <td>JTMEB3FV6N</td>\n",
       "      <td>Monroe</td>\n",
       "      <td>Key West</td>\n",
       "      <td>FL</td>\n",
       "      <td>33040</td>\n",
       "      <td>2022</td>\n",
       "      <td>TOYOTA</td>\n",
       "      <td>RAV4 PRIME</td>\n",
       "      <td>Plug-in Hybrid Electric Vehicle (PHEV)</td>\n",
       "      <td>Clean Alternative Fuel Vehicle Eligible</td>\n",
       "      <td>42</td>\n",
       "      <td>0</td>\n",
       "      <td>NaN</td>\n",
       "      <td>198968248</td>\n",
       "      <td>POINT (-81.80023 24.5545)</td>\n",
       "      <td>NaN</td>\n",
       "      <td>12087972100</td>\n",
       "    </tr>\n",
       "    <tr>\n",
       "      <th>1</th>\n",
       "      <td>1G1RD6E45D</td>\n",
       "      <td>Clark</td>\n",
       "      <td>Laughlin</td>\n",
       "      <td>NV</td>\n",
       "      <td>89029</td>\n",
       "      <td>2013</td>\n",
       "      <td>CHEVROLET</td>\n",
       "      <td>VOLT</td>\n",
       "      <td>Plug-in Hybrid Electric Vehicle (PHEV)</td>\n",
       "      <td>Clean Alternative Fuel Vehicle Eligible</td>\n",
       "      <td>38</td>\n",
       "      <td>0</td>\n",
       "      <td>NaN</td>\n",
       "      <td>5204412</td>\n",
       "      <td>POINT (-114.57245 35.16815)</td>\n",
       "      <td>NaN</td>\n",
       "      <td>32003005702</td>\n",
       "    </tr>\n",
       "    <tr>\n",
       "      <th>2</th>\n",
       "      <td>JN1AZ0CP8B</td>\n",
       "      <td>Yakima</td>\n",
       "      <td>Yakima</td>\n",
       "      <td>WA</td>\n",
       "      <td>98901</td>\n",
       "      <td>2011</td>\n",
       "      <td>NISSAN</td>\n",
       "      <td>LEAF</td>\n",
       "      <td>Battery Electric Vehicle (BEV)</td>\n",
       "      <td>Clean Alternative Fuel Vehicle Eligible</td>\n",
       "      <td>73</td>\n",
       "      <td>0</td>\n",
       "      <td>15.0</td>\n",
       "      <td>218972519</td>\n",
       "      <td>POINT (-120.50721 46.60448)</td>\n",
       "      <td>PACIFICORP</td>\n",
       "      <td>53077001602</td>\n",
       "    </tr>\n",
       "    <tr>\n",
       "      <th>3</th>\n",
       "      <td>1G1FW6S08H</td>\n",
       "      <td>Skagit</td>\n",
       "      <td>Concrete</td>\n",
       "      <td>WA</td>\n",
       "      <td>98237</td>\n",
       "      <td>2017</td>\n",
       "      <td>CHEVROLET</td>\n",
       "      <td>BOLT EV</td>\n",
       "      <td>Battery Electric Vehicle (BEV)</td>\n",
       "      <td>Clean Alternative Fuel Vehicle Eligible</td>\n",
       "      <td>238</td>\n",
       "      <td>0</td>\n",
       "      <td>39.0</td>\n",
       "      <td>186750406</td>\n",
       "      <td>POINT (-121.7515 48.53892)</td>\n",
       "      <td>PUGET SOUND ENERGY INC</td>\n",
       "      <td>53057951101</td>\n",
       "    </tr>\n",
       "    <tr>\n",
       "      <th>4</th>\n",
       "      <td>3FA6P0SU1K</td>\n",
       "      <td>Snohomish</td>\n",
       "      <td>Everett</td>\n",
       "      <td>WA</td>\n",
       "      <td>98201</td>\n",
       "      <td>2019</td>\n",
       "      <td>FORD</td>\n",
       "      <td>FUSION</td>\n",
       "      <td>Plug-in Hybrid Electric Vehicle (PHEV)</td>\n",
       "      <td>Not eligible due to low battery range</td>\n",
       "      <td>26</td>\n",
       "      <td>0</td>\n",
       "      <td>38.0</td>\n",
       "      <td>2006714</td>\n",
       "      <td>POINT (-122.20596 47.97659)</td>\n",
       "      <td>PUGET SOUND ENERGY INC</td>\n",
       "      <td>53061041500</td>\n",
       "    </tr>\n",
       "    <tr>\n",
       "      <th>...</th>\n",
       "      <td>...</td>\n",
       "      <td>...</td>\n",
       "      <td>...</td>\n",
       "      <td>...</td>\n",
       "      <td>...</td>\n",
       "      <td>...</td>\n",
       "      <td>...</td>\n",
       "      <td>...</td>\n",
       "      <td>...</td>\n",
       "      <td>...</td>\n",
       "      <td>...</td>\n",
       "      <td>...</td>\n",
       "      <td>...</td>\n",
       "      <td>...</td>\n",
       "      <td>...</td>\n",
       "      <td>...</td>\n",
       "      <td>...</td>\n",
       "    </tr>\n",
       "    <tr>\n",
       "      <th>112629</th>\n",
       "      <td>7SAYGDEF2N</td>\n",
       "      <td>King</td>\n",
       "      <td>Duvall</td>\n",
       "      <td>WA</td>\n",
       "      <td>98019</td>\n",
       "      <td>2022</td>\n",
       "      <td>TESLA</td>\n",
       "      <td>MODEL Y</td>\n",
       "      <td>Battery Electric Vehicle (BEV)</td>\n",
       "      <td>Eligibility unknown as battery range has not b...</td>\n",
       "      <td>0</td>\n",
       "      <td>0</td>\n",
       "      <td>45.0</td>\n",
       "      <td>217955265</td>\n",
       "      <td>POINT (-121.98609 47.74068)</td>\n",
       "      <td>PUGET SOUND ENERGY INC||CITY OF TACOMA - (WA)</td>\n",
       "      <td>53033032401</td>\n",
       "    </tr>\n",
       "    <tr>\n",
       "      <th>112630</th>\n",
       "      <td>1N4BZ1CP7K</td>\n",
       "      <td>San Juan</td>\n",
       "      <td>Friday Harbor</td>\n",
       "      <td>WA</td>\n",
       "      <td>98250</td>\n",
       "      <td>2019</td>\n",
       "      <td>NISSAN</td>\n",
       "      <td>LEAF</td>\n",
       "      <td>Battery Electric Vehicle (BEV)</td>\n",
       "      <td>Clean Alternative Fuel Vehicle Eligible</td>\n",
       "      <td>150</td>\n",
       "      <td>0</td>\n",
       "      <td>40.0</td>\n",
       "      <td>103663227</td>\n",
       "      <td>POINT (-123.01648 48.53448)</td>\n",
       "      <td>BONNEVILLE POWER ADMINISTRATION||ORCAS POWER &amp;...</td>\n",
       "      <td>53055960301</td>\n",
       "    </tr>\n",
       "    <tr>\n",
       "      <th>112631</th>\n",
       "      <td>1FMCU0KZ4N</td>\n",
       "      <td>King</td>\n",
       "      <td>Vashon</td>\n",
       "      <td>WA</td>\n",
       "      <td>98070</td>\n",
       "      <td>2022</td>\n",
       "      <td>FORD</td>\n",
       "      <td>ESCAPE</td>\n",
       "      <td>Plug-in Hybrid Electric Vehicle (PHEV)</td>\n",
       "      <td>Clean Alternative Fuel Vehicle Eligible</td>\n",
       "      <td>38</td>\n",
       "      <td>0</td>\n",
       "      <td>34.0</td>\n",
       "      <td>193878387</td>\n",
       "      <td>POINT (-122.4573 47.44929)</td>\n",
       "      <td>PUGET SOUND ENERGY INC||CITY OF TACOMA - (WA)</td>\n",
       "      <td>53033027702</td>\n",
       "    </tr>\n",
       "    <tr>\n",
       "      <th>112632</th>\n",
       "      <td>KNDCD3LD4J</td>\n",
       "      <td>King</td>\n",
       "      <td>Covington</td>\n",
       "      <td>WA</td>\n",
       "      <td>98042</td>\n",
       "      <td>2018</td>\n",
       "      <td>KIA</td>\n",
       "      <td>NIRO</td>\n",
       "      <td>Plug-in Hybrid Electric Vehicle (PHEV)</td>\n",
       "      <td>Not eligible due to low battery range</td>\n",
       "      <td>26</td>\n",
       "      <td>0</td>\n",
       "      <td>47.0</td>\n",
       "      <td>125039043</td>\n",
       "      <td>POINT (-122.09124 47.33778)</td>\n",
       "      <td>PUGET SOUND ENERGY INC||CITY OF TACOMA - (WA)</td>\n",
       "      <td>53033032007</td>\n",
       "    </tr>\n",
       "    <tr>\n",
       "      <th>112633</th>\n",
       "      <td>YV4BR0CL8N</td>\n",
       "      <td>King</td>\n",
       "      <td>Covington</td>\n",
       "      <td>WA</td>\n",
       "      <td>98042</td>\n",
       "      <td>2022</td>\n",
       "      <td>VOLVO</td>\n",
       "      <td>XC90</td>\n",
       "      <td>Plug-in Hybrid Electric Vehicle (PHEV)</td>\n",
       "      <td>Not eligible due to low battery range</td>\n",
       "      <td>18</td>\n",
       "      <td>0</td>\n",
       "      <td>47.0</td>\n",
       "      <td>194673692</td>\n",
       "      <td>POINT (-122.09124 47.33778)</td>\n",
       "      <td>PUGET SOUND ENERGY INC||CITY OF TACOMA - (WA)</td>\n",
       "      <td>53033032005</td>\n",
       "    </tr>\n",
       "  </tbody>\n",
       "</table>\n",
       "<p>112634 rows × 17 columns</p>\n",
       "</div>"
      ],
      "text/plain": [
       "        VIN (1-10)     County           City State  Postal Code  Model Year  \\\n",
       "0       JTMEB3FV6N     Monroe       Key West    FL        33040        2022   \n",
       "1       1G1RD6E45D      Clark       Laughlin    NV        89029        2013   \n",
       "2       JN1AZ0CP8B     Yakima         Yakima    WA        98901        2011   \n",
       "3       1G1FW6S08H     Skagit       Concrete    WA        98237        2017   \n",
       "4       3FA6P0SU1K  Snohomish        Everett    WA        98201        2019   \n",
       "...            ...        ...            ...   ...          ...         ...   \n",
       "112629  7SAYGDEF2N       King         Duvall    WA        98019        2022   \n",
       "112630  1N4BZ1CP7K   San Juan  Friday Harbor    WA        98250        2019   \n",
       "112631  1FMCU0KZ4N       King         Vashon    WA        98070        2022   \n",
       "112632  KNDCD3LD4J       King      Covington    WA        98042        2018   \n",
       "112633  YV4BR0CL8N       King      Covington    WA        98042        2022   \n",
       "\n",
       "             Make       Model                   Electric Vehicle Type  \\\n",
       "0          TOYOTA  RAV4 PRIME  Plug-in Hybrid Electric Vehicle (PHEV)   \n",
       "1       CHEVROLET        VOLT  Plug-in Hybrid Electric Vehicle (PHEV)   \n",
       "2          NISSAN        LEAF          Battery Electric Vehicle (BEV)   \n",
       "3       CHEVROLET     BOLT EV          Battery Electric Vehicle (BEV)   \n",
       "4            FORD      FUSION  Plug-in Hybrid Electric Vehicle (PHEV)   \n",
       "...           ...         ...                                     ...   \n",
       "112629      TESLA     MODEL Y          Battery Electric Vehicle (BEV)   \n",
       "112630     NISSAN        LEAF          Battery Electric Vehicle (BEV)   \n",
       "112631       FORD      ESCAPE  Plug-in Hybrid Electric Vehicle (PHEV)   \n",
       "112632        KIA        NIRO  Plug-in Hybrid Electric Vehicle (PHEV)   \n",
       "112633      VOLVO        XC90  Plug-in Hybrid Electric Vehicle (PHEV)   \n",
       "\n",
       "        Clean Alternative Fuel Vehicle (CAFV) Eligibility  Electric Range  \\\n",
       "0                 Clean Alternative Fuel Vehicle Eligible              42   \n",
       "1                 Clean Alternative Fuel Vehicle Eligible              38   \n",
       "2                 Clean Alternative Fuel Vehicle Eligible              73   \n",
       "3                 Clean Alternative Fuel Vehicle Eligible             238   \n",
       "4                   Not eligible due to low battery range              26   \n",
       "...                                                   ...             ...   \n",
       "112629  Eligibility unknown as battery range has not b...               0   \n",
       "112630            Clean Alternative Fuel Vehicle Eligible             150   \n",
       "112631            Clean Alternative Fuel Vehicle Eligible              38   \n",
       "112632              Not eligible due to low battery range              26   \n",
       "112633              Not eligible due to low battery range              18   \n",
       "\n",
       "        Base MSRP  Legislative District  DOL Vehicle ID  \\\n",
       "0               0                   NaN       198968248   \n",
       "1               0                   NaN         5204412   \n",
       "2               0                  15.0       218972519   \n",
       "3               0                  39.0       186750406   \n",
       "4               0                  38.0         2006714   \n",
       "...           ...                   ...             ...   \n",
       "112629          0                  45.0       217955265   \n",
       "112630          0                  40.0       103663227   \n",
       "112631          0                  34.0       193878387   \n",
       "112632          0                  47.0       125039043   \n",
       "112633          0                  47.0       194673692   \n",
       "\n",
       "                   Vehicle Location  \\\n",
       "0         POINT (-81.80023 24.5545)   \n",
       "1       POINT (-114.57245 35.16815)   \n",
       "2       POINT (-120.50721 46.60448)   \n",
       "3        POINT (-121.7515 48.53892)   \n",
       "4       POINT (-122.20596 47.97659)   \n",
       "...                             ...   \n",
       "112629  POINT (-121.98609 47.74068)   \n",
       "112630  POINT (-123.01648 48.53448)   \n",
       "112631   POINT (-122.4573 47.44929)   \n",
       "112632  POINT (-122.09124 47.33778)   \n",
       "112633  POINT (-122.09124 47.33778)   \n",
       "\n",
       "                                         Electric Utility  2020 Census Tract  \n",
       "0                                                     NaN        12087972100  \n",
       "1                                                     NaN        32003005702  \n",
       "2                                              PACIFICORP        53077001602  \n",
       "3                                  PUGET SOUND ENERGY INC        53057951101  \n",
       "4                                  PUGET SOUND ENERGY INC        53061041500  \n",
       "...                                                   ...                ...  \n",
       "112629      PUGET SOUND ENERGY INC||CITY OF TACOMA - (WA)        53033032401  \n",
       "112630  BONNEVILLE POWER ADMINISTRATION||ORCAS POWER &...        53055960301  \n",
       "112631      PUGET SOUND ENERGY INC||CITY OF TACOMA - (WA)        53033027702  \n",
       "112632      PUGET SOUND ENERGY INC||CITY OF TACOMA - (WA)        53033032007  \n",
       "112633      PUGET SOUND ENERGY INC||CITY OF TACOMA - (WA)        53033032005  \n",
       "\n",
       "[112634 rows x 17 columns]"
      ]
     },
     "execution_count": 4,
     "metadata": {},
     "output_type": "execute_result"
    }
   ],
   "source": [
    "df"
   ]
  },
  {
   "cell_type": "code",
   "execution_count": 5,
   "metadata": {
    "id": "gxan01NRam3g"
   },
   "outputs": [],
   "source": [
    "df.drop_duplicates(inplace=True)"
   ]
  },
  {
   "cell_type": "code",
   "execution_count": 6,
   "metadata": {
    "colab": {
     "base_uri": "https://localhost:8080/"
    },
    "id": "WJO5NydKIU5E",
    "outputId": "0477faa0-4d22-45ea-dea7-722347171d30"
   },
   "outputs": [
    {
     "name": "stdout",
     "output_type": "stream",
     "text": [
      "<class 'pandas.core.frame.DataFrame'>\n",
      "Int64Index: 112634 entries, 0 to 112633\n",
      "Data columns (total 17 columns):\n",
      " #   Column                                             Non-Null Count   Dtype  \n",
      "---  ------                                             --------------   -----  \n",
      " 0   VIN (1-10)                                         112634 non-null  object \n",
      " 1   County                                             112634 non-null  object \n",
      " 2   City                                               112634 non-null  object \n",
      " 3   State                                              112634 non-null  object \n",
      " 4   Postal Code                                        112634 non-null  int64  \n",
      " 5   Model Year                                         112634 non-null  int64  \n",
      " 6   Make                                               112634 non-null  object \n",
      " 7   Model                                              112614 non-null  object \n",
      " 8   Electric Vehicle Type                              112634 non-null  object \n",
      " 9   Clean Alternative Fuel Vehicle (CAFV) Eligibility  112634 non-null  object \n",
      " 10  Electric Range                                     112634 non-null  int64  \n",
      " 11  Base MSRP                                          112634 non-null  int64  \n",
      " 12  Legislative District                               112348 non-null  float64\n",
      " 13  DOL Vehicle ID                                     112634 non-null  int64  \n",
      " 14  Vehicle Location                                   112610 non-null  object \n",
      " 15  Electric Utility                                   112191 non-null  object \n",
      " 16  2020 Census Tract                                  112634 non-null  int64  \n",
      "dtypes: float64(1), int64(6), object(10)\n",
      "memory usage: 15.5+ MB\n"
     ]
    }
   ],
   "source": [
    "df.info()"
   ]
  },
  {
   "cell_type": "code",
   "execution_count": 7,
   "metadata": {
    "colab": {
     "base_uri": "https://localhost:8080/"
    },
    "id": "cPjHrU6AIUYD",
    "outputId": "59d6a55c-aad7-4774-b46e-8fcded7f4abd"
   },
   "outputs": [
    {
     "data": {
      "text/plain": [
       "VIN (1-10)                                             0\n",
       "County                                                 0\n",
       "City                                                   0\n",
       "State                                                  0\n",
       "Postal Code                                            0\n",
       "Model Year                                             0\n",
       "Make                                                   0\n",
       "Model                                                 20\n",
       "Electric Vehicle Type                                  0\n",
       "Clean Alternative Fuel Vehicle (CAFV) Eligibility      0\n",
       "Electric Range                                         0\n",
       "Base MSRP                                              0\n",
       "Legislative District                                 286\n",
       "DOL Vehicle ID                                         0\n",
       "Vehicle Location                                      24\n",
       "Electric Utility                                     443\n",
       "2020 Census Tract                                      0\n",
       "dtype: int64"
      ]
     },
     "execution_count": 7,
     "metadata": {},
     "output_type": "execute_result"
    }
   ],
   "source": [
    "df.isna().sum()"
   ]
  },
  {
   "cell_type": "code",
   "execution_count": null,
   "metadata": {
    "colab": {
     "base_uri": "https://localhost:8080/",
     "height": 789
    },
    "id": "Ds1OKr_XIT0y",
    "outputId": "e604bc11-c4e5-4a16-bb60-7f8e939027aa"
   },
   "outputs": [],
   "source": [
    "import missingno as mo\n",
    "mo.matrix(df)"
   ]
  },
  {
   "cell_type": "markdown",
   "metadata": {
    "id": "T3i4jUKZJOpC"
   },
   "source": [
    "# Filling null values"
   ]
  },
  {
   "cell_type": "code",
   "execution_count": 9,
   "metadata": {
    "id": "KD_G0z-XI2VN"
   },
   "outputs": [],
   "source": [
    "df[\"Model\"]=df.groupby([\"Make\"])['Model'].transform(lambda x: x.fillna(x.mode()[0]))"
   ]
  },
  {
   "cell_type": "code",
   "execution_count": 10,
   "metadata": {
    "id": "j1n5WQtlM41l"
   },
   "outputs": [],
   "source": [
    "df['Legislative District'].fillna(df['Legislative District'].mode()[0], inplace=True)"
   ]
  },
  {
   "cell_type": "code",
   "execution_count": 11,
   "metadata": {
    "id": "QGarlJ7yJMND"
   },
   "outputs": [],
   "source": [
    "df[\"Electric Utility\"]=df.groupby([\"Make\",\"Model\",\"Electric Vehicle Type\",\"Clean Alternative Fuel Vehicle (CAFV) Eligibility\"])[\"Electric Utility\"].transform(lambda x: x.fillna(x.mode()[0]))"
   ]
  },
  {
   "cell_type": "code",
   "execution_count": 12,
   "metadata": {
    "id": "HBgCprMlKxnk"
   },
   "outputs": [],
   "source": [
    "df['Vehicle Location'].fillna('Not Available', inplace=True)"
   ]
  },
  {
   "cell_type": "code",
   "execution_count": 13,
   "metadata": {
    "colab": {
     "base_uri": "https://localhost:8080/"
    },
    "id": "WmBGseA0Um3U",
    "outputId": "2904f5a8-3407-42a6-ad75-943dbaa38c1a"
   },
   "outputs": [
    {
     "data": {
      "text/plain": [
       "VIN (1-10)                                           0\n",
       "County                                               0\n",
       "City                                                 0\n",
       "State                                                0\n",
       "Postal Code                                          0\n",
       "Model Year                                           0\n",
       "Make                                                 0\n",
       "Model                                                0\n",
       "Electric Vehicle Type                                0\n",
       "Clean Alternative Fuel Vehicle (CAFV) Eligibility    0\n",
       "Electric Range                                       0\n",
       "Base MSRP                                            0\n",
       "Legislative District                                 0\n",
       "DOL Vehicle ID                                       0\n",
       "Vehicle Location                                     0\n",
       "Electric Utility                                     0\n",
       "2020 Census Tract                                    0\n",
       "dtype: int64"
      ]
     },
     "execution_count": 13,
     "metadata": {},
     "output_type": "execute_result"
    }
   ],
   "source": [
    "df.isna().sum()"
   ]
  },
  {
   "cell_type": "code",
   "execution_count": 14,
   "metadata": {
    "colab": {
     "base_uri": "https://localhost:8080/"
    },
    "id": "dF-l6qjqMbPG",
    "outputId": "69545b61-391a-40ed-ab76-6c492205d299"
   },
   "outputs": [
    {
     "name": "stdout",
     "output_type": "stream",
     "text": [
      "<class 'pandas.core.frame.DataFrame'>\n",
      "Int64Index: 112634 entries, 0 to 112633\n",
      "Data columns (total 17 columns):\n",
      " #   Column                                             Non-Null Count   Dtype  \n",
      "---  ------                                             --------------   -----  \n",
      " 0   VIN (1-10)                                         112634 non-null  object \n",
      " 1   County                                             112634 non-null  object \n",
      " 2   City                                               112634 non-null  object \n",
      " 3   State                                              112634 non-null  object \n",
      " 4   Postal Code                                        112634 non-null  int64  \n",
      " 5   Model Year                                         112634 non-null  int64  \n",
      " 6   Make                                               112634 non-null  object \n",
      " 7   Model                                              112634 non-null  object \n",
      " 8   Electric Vehicle Type                              112634 non-null  object \n",
      " 9   Clean Alternative Fuel Vehicle (CAFV) Eligibility  112634 non-null  object \n",
      " 10  Electric Range                                     112634 non-null  int64  \n",
      " 11  Base MSRP                                          112634 non-null  int64  \n",
      " 12  Legislative District                               112634 non-null  float64\n",
      " 13  DOL Vehicle ID                                     112634 non-null  int64  \n",
      " 14  Vehicle Location                                   112634 non-null  object \n",
      " 15  Electric Utility                                   112634 non-null  object \n",
      " 16  2020 Census Tract                                  112634 non-null  int64  \n",
      "dtypes: float64(1), int64(6), object(10)\n",
      "memory usage: 15.5+ MB\n"
     ]
    }
   ],
   "source": [
    "df.info()"
   ]
  },
  {
   "cell_type": "markdown",
   "metadata": {
    "id": "l8NGOuepk7CR"
   },
   "source": [
    "\n",
    "\n",
    "## Task1 (Description) - Apply Exploratory Data Analysis(Univariate and Bivariate) using plotly.express library."
   ]
  },
  {
   "cell_type": "markdown",
   "metadata": {},
   "source": [
    "# Count plot of `Make` column"
   ]
  },
  {
   "cell_type": "code",
   "execution_count": null,
   "metadata": {
    "colab": {
     "base_uri": "https://localhost:8080/",
     "height": 542
    },
    "id": "UCScw-6yI1xf",
    "outputId": "ffcaed7b-91bd-479c-b04d-2a85775948c1"
   },
   "outputs": [],
   "source": [
    "make_counts = df['Make'].value_counts()\n",
    "fig1 = px.bar(make_counts, x='Make', y=make_counts.index, title='Bar Chart of Car Makes')\n",
    "fig1.show()"
   ]
  },
  {
   "cell_type": "markdown",
   "metadata": {},
   "source": [
    "# Hist plot of the `Distribution of Electric Range`"
   ]
  },
  {
   "cell_type": "code",
   "execution_count": null,
   "metadata": {
    "colab": {
     "base_uri": "https://localhost:8080/",
     "height": 542
    },
    "id": "CAE-sQ1tI2NK",
    "outputId": "dd452e5e-7a7f-4a16-9b2d-bf7ae49c1595"
   },
   "outputs": [],
   "source": [
    "fig2 = px.histogram(df, x='Electric Range', nbins=30, title='Distribution of Electric Range')\n",
    "fig2.show()"
   ]
  },
  {
   "cell_type": "markdown",
   "metadata": {},
   "source": [
    "# Pie plot of `Clean Alternative Fuel Vehicle (CAFV) Eligibility`column"
   ]
  },
  {
   "cell_type": "code",
   "execution_count": null,
   "metadata": {
    "colab": {
     "base_uri": "https://localhost:8080/",
     "height": 521
    },
    "id": "cZfdljhJjhv1",
    "outputId": "46de7759-3b3e-46c7-e958-cfb203f154ce"
   },
   "outputs": [],
   "source": [
    "vehicle_type_counts = df['Clean Alternative Fuel Vehicle (CAFV) Eligibility'].value_counts()\n",
    "plt.figure(figsize=(8, 6))\n",
    "explode = (0,0,0.2)\n",
    "colors = ['skyBlue', 'red','orange']\n",
    "plt.pie(vehicle_type_counts.values, labels=vehicle_type_counts.index, colors=colors, autopct='%1.1f%%', shadow=True, explode=explode)\n",
    "plt.title('Pie Chart of Electric Vehicle Type')\n",
    "plt.axis('equal')\n",
    "plt.show()"
   ]
  },
  {
   "cell_type": "markdown",
   "metadata": {},
   "source": [
    "# Box plot of `Clean Alternative Fuel Vehicle (CAFV) Eligibility` column"
   ]
  },
  {
   "cell_type": "code",
   "execution_count": null,
   "metadata": {
    "colab": {
     "base_uri": "https://localhost:8080/",
     "height": 542
    },
    "id": "eyAcWUV1I2FR",
    "outputId": "cf5e6037-a743-457c-f594-2391907c4bb2"
   },
   "outputs": [],
   "source": [
    "fig3 = px.box(df, x='Clean Alternative Fuel Vehicle (CAFV) Eligibility', y='Electric Range', title='Electric Range by CAFV Eligibility')\n",
    "fig3.show()"
   ]
  },
  {
   "cell_type": "markdown",
   "metadata": {},
   "source": [
    "# Pie plot of `Electric Vehicle Type` column"
   ]
  },
  {
   "cell_type": "code",
   "execution_count": null,
   "metadata": {
    "colab": {
     "base_uri": "https://localhost:8080/",
     "height": 521
    },
    "id": "IVGvb35tI15c",
    "outputId": "c5f7967a-490a-41f2-da04-be0cf5a78d16"
   },
   "outputs": [],
   "source": [
    "vehicle_type_counts = df['Electric Vehicle Type'].value_counts()\n",
    "plt.figure(figsize=(8, 6))\n",
    "explode = (0 ,0.1)\n",
    "colors = ['skyBlue', 'red']\n",
    "plt.pie(vehicle_type_counts.values, labels=vehicle_type_counts.index, colors=colors, autopct='%1.1f%%', shadow=True, explode=explode)\n",
    "plt.title('Pie Chart of Electric Vehicle Type')\n",
    "plt.axis('equal')\n",
    "\n",
    "plt.show()\n"
   ]
  },
  {
   "cell_type": "markdown",
   "metadata": {},
   "source": [
    "# Box plot of `Electric Vehicle Type` column"
   ]
  },
  {
   "cell_type": "code",
   "execution_count": null,
   "metadata": {
    "colab": {
     "base_uri": "https://localhost:8080/",
     "height": 542
    },
    "id": "9-0d3WxNI2BH",
    "outputId": "bdde1deb-10a8-43da-d15e-b3b51bfcf2c5"
   },
   "outputs": [],
   "source": [
    "fig4 = px.box(df, x='Electric Vehicle Type', y='Electric Range', title='Electric Vehicle Type vs. Electric Range')\n",
    "fig4.show()"
   ]
  },
  {
   "cell_type": "markdown",
   "metadata": {},
   "source": [
    "# Scatter plot of `Make vs Electric Range`"
   ]
  },
  {
   "cell_type": "code",
   "execution_count": null,
   "metadata": {
    "colab": {
     "base_uri": "https://localhost:8080/",
     "height": 542
    },
    "id": "TLRto0Q4I19V",
    "outputId": "d74e820d-354d-4fb8-d563-2001c33cedae"
   },
   "outputs": [],
   "source": [
    "fig5 = px.scatter(df, x='Make', y='Electric Range', title='Make vs. Electric Range')\n",
    "fig5.show()"
   ]
  },
  {
   "cell_type": "markdown",
   "metadata": {},
   "source": [
    "# Scatter plot of `Make vs Model Year`"
   ]
  },
  {
   "cell_type": "code",
   "execution_count": null,
   "metadata": {
    "colab": {
     "base_uri": "https://localhost:8080/",
     "height": 542
    },
    "id": "7bdN15mIqAGu",
    "outputId": "9c61649c-51eb-4fa7-ec5d-8d92d59c85fe"
   },
   "outputs": [],
   "source": [
    "fig6 = px.scatter(df, x='Make', y='Model Year', title='Make vs. Model Year')\n",
    "fig6.show()"
   ]
  },
  {
   "cell_type": "markdown",
   "metadata": {
    "id": "UCqf5zBcrHxd"
   },
   "source": [
    "# Box plot of `Model Year`"
   ]
  },
  {
   "cell_type": "code",
   "execution_count": null,
   "metadata": {
    "colab": {
     "base_uri": "https://localhost:8080/",
     "height": 542
    },
    "id": "y1fANWLZI11Z",
    "outputId": "4c0f6d88-2318-4bc8-c30f-d20cfd577e03"
   },
   "outputs": [],
   "source": [
    "fig7 = px.box(df, y='Model Year', title=\"Box Plot of Model Year\")\n",
    "fig7.show()\n"
   ]
  },
  {
   "cell_type": "markdown",
   "metadata": {},
   "source": [
    "# Scatter plot of `Make vs Model`"
   ]
  },
  {
   "cell_type": "code",
   "execution_count": null,
   "metadata": {
    "colab": {
     "base_uri": "https://localhost:8080/",
     "height": 542
    },
    "id": "wwR6pHmRljsm",
    "outputId": "a75643ee-25a7-470e-8c63-e84d094cba28"
   },
   "outputs": [],
   "source": [
    "fig8 = px.scatter(df, x='Make', y='Model', title='Make vs. model')\n",
    "fig8.show()"
   ]
  },
  {
   "cell_type": "markdown",
   "metadata": {},
   "source": [
    "# Scatter plot of `Electric Range vs Base MSRP`"
   ]
  },
  {
   "cell_type": "code",
   "execution_count": null,
   "metadata": {
    "colab": {
     "base_uri": "https://localhost:8080/",
     "height": 542
    },
    "id": "tj3ab1Y8I1pb",
    "outputId": "cd4f05f4-02e5-4116-b13d-bbb5a715a6c4"
   },
   "outputs": [],
   "source": [
    "fig9 = px.scatter(df, x='Electric Range', y='Base MSRP', title='Scatter Plot of Electric Range vs. Base MSRP')\n",
    "fig9.show()"
   ]
  },
  {
   "cell_type": "markdown",
   "metadata": {
    "id": "Zy6RMPKEnRzv"
   },
   "source": [
    "## Task2 (Description) - Create a Choropleth to display the number of EV vehicles based on location.\n"
   ]
  },
  {
   "cell_type": "code",
   "execution_count": null,
   "metadata": {
    "colab": {
     "base_uri": "https://localhost:8080/",
     "height": 542
    },
    "id": "mtB06ub3I0Bt",
    "outputId": "207c1fbc-e552-4ca8-e1d3-8254203f1d11"
   },
   "outputs": [],
   "source": [
    "def create_ev_choropleth_map(df):\n",
    "\n",
    "    ev_count_by_state = df['State'].value_counts().reset_index()\n",
    "    ev_count_by_state.columns = ['State', 'EV Count']\n",
    "\n",
    "    fig_choropleth = go.Figure(data=go.Choropleth(\n",
    "        locations=ev_count_by_state['State'],\n",
    "        z=ev_count_by_state['EV Count'],\n",
    "        locationmode='USA-states',\n",
    "        colorscale='Viridis',\n",
    "        colorbar_title='Number of EV Vehicles',\n",
    "    ))\n",
    "\n",
    "    # Set the map title and layout\n",
    "    fig_choropleth.update_layout(\n",
    "        title_text='Choropleth Map of EV Vehicles by State',\n",
    "        geo_scope='usa',  \n",
    "    )\n",
    "\n",
    "\n",
    "    return fig_choropleth\n",
    "\n",
    "fig = create_ev_choropleth_map(df)\n",
    "fig.show()"
   ]
  },
  {
   "cell_type": "markdown",
   "metadata": {
    "id": "scFJnw0ZrG03"
   },
   "source": [
    "## Task3 (Description) - Create a Racing Bar Plot to display the animation of EV Make and its count each year.\n"
   ]
  },
  {
   "cell_type": "code",
   "execution_count": null,
   "metadata": {
    "id": "J2djpPiWHgLz"
   },
   "outputs": [],
   "source": [
    "df['Model Year'] = pd.to_datetime(df['Model Year'], format='%Y')\n",
    "\n",
    "df_grouped = df.groupby(['Model Year', 'Make']).size().reset_index(name='Count')"
   ]
  },
  {
   "cell_type": "code",
   "execution_count": null,
   "metadata": {
    "colab": {
     "base_uri": "https://localhost:8080/",
     "height": 733
    },
    "id": "qxt8f70OHkiu",
    "outputId": "8040b07b-ef01-4e79-a5bd-8fada0280f93"
   },
   "outputs": [],
   "source": [
    "import pandas as pd\n",
    "\n",
    "df['Model Year'] = pd.to_datetime(df['Model Year'], format='%Y')\n",
    "\n",
    "df_grouped = df.groupby(['Model Year', 'Make']).size().reset_index(name='Count')\n",
    "\n",
    "import bar_chart_race as bcr\n",
    "import warnings\n",
    "with warnings.catch_warnings():\n",
    " warnings.simplefilter(\"ignore\")\n",
    "\n",
    "df_pivot = df_grouped.pivot(index='Model Year', columns='Make', values='Count')\n",
    "\n",
    "\n",
    "df_pivot = df_pivot.fillna(method='pad')\n",
    "\n",
    "bcr.bar_chart_race(\n",
    "    df=df_pivot,\n",
    "    orientation='h',\n",
    "    sort='desc',\n",
    "    n_bars=10,\n",
    "    fixed_order=False,\n",
    "    title='EV Make Racing Bar Plot by Year',\n",
    "    label_bars=True,\n",
    "    period_label={'x': 0.99, 'y': 0.25, 'ha': 'right', 'va': 'center'},\n",
    "    period_fmt='%Y',\n",
    ")"
   ]
  },
  {
   "cell_type": "code",
   "execution_count": null,
   "metadata": {
    "id": "r20ZvTH8H4DL"
   },
   "outputs": [],
   "source": []
  }
 ],
 "metadata": {
  "colab": {
   "provenance": []
  },
  "kernelspec": {
   "display_name": "Python 3 (ipykernel)",
   "language": "python",
   "name": "python3"
  },
  "language_info": {
   "codemirror_mode": {
    "name": "ipython",
    "version": 3
   },
   "file_extension": ".py",
   "mimetype": "text/x-python",
   "name": "python",
   "nbconvert_exporter": "python",
   "pygments_lexer": "ipython3",
   "version": "3.10.9"
  }
 },
 "nbformat": 4,
 "nbformat_minor": 1
}
